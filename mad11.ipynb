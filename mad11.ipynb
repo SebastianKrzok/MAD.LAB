{
  "nbformat": 4,
  "nbformat_minor": 0,
  "metadata": {
    "colab": {
      "provenance": []
    },
    "kernelspec": {
      "name": "python3",
      "display_name": "Python 3"
    },
    "language_info": {
      "name": "python"
    }
  },
  "cells": [
    {
      "cell_type": "code",
      "source": [
        "import plotly as py\n",
        "import datetime\n",
        "import numpy as np\n",
        "import pandas as pd\n",
        "import plotly.graph_objects as go\n",
        "from ipywidgets import widgets\n",
        "from google.colab import output\n",
        "output.enable_custom_widget_manager()\n",
        "import plotly.express as px\n",
        "from plotly.offline import download_plotlyjs, init_notebook_mode, iplot, plot"
      ],
      "metadata": {
        "id": "qzMzLK9r8uzO"
      },
      "execution_count": 2,
      "outputs": []
    },
    {
      "cell_type": "code",
      "source": [
        "!pip install scikit-learn"
      ],
      "metadata": {
        "colab": {
          "base_uri": "https://localhost:8080/"
        },
        "id": "ShgVEUgE9gKX",
        "outputId": "4058d35c-1965-4c7c-9749-45b527089bc2"
      },
      "execution_count": 5,
      "outputs": [
        {
          "output_type": "stream",
          "name": "stdout",
          "text": [
            "Requirement already satisfied: scikit-learn in /usr/local/lib/python3.11/dist-packages (1.6.1)\n",
            "Requirement already satisfied: numpy>=1.19.5 in /usr/local/lib/python3.11/dist-packages (from scikit-learn) (2.0.2)\n",
            "Requirement already satisfied: scipy>=1.6.0 in /usr/local/lib/python3.11/dist-packages (from scikit-learn) (1.15.3)\n",
            "Requirement already satisfied: joblib>=1.2.0 in /usr/local/lib/python3.11/dist-packages (from scikit-learn) (1.5.0)\n",
            "Requirement already satisfied: threadpoolctl>=3.1.0 in /usr/local/lib/python3.11/dist-packages (from scikit-learn) (3.6.0)\n"
          ]
        }
      ]
    },
    {
      "cell_type": "code",
      "source": [
        "from sklearn.datasets import load_iris\n",
        "from sklearn.decomposition import PCA, KernelPCA"
      ],
      "metadata": {
        "id": "wVuvljOv_wyz"
      },
      "execution_count": 6,
      "outputs": []
    },
    {
      "cell_type": "code",
      "source": [
        "!pip install eurostat\n",
        "import eurostat\n",
        "import json\n",
        "import requests"
      ],
      "metadata": {
        "colab": {
          "base_uri": "https://localhost:8080/"
        },
        "id": "TRzCr1MH_0iz",
        "outputId": "b0b3ff28-4153-4b5d-a726-2780ede33826"
      },
      "execution_count": 9,
      "outputs": [
        {
          "output_type": "stream",
          "name": "stdout",
          "text": [
            "Requirement already satisfied: eurostat in /usr/local/lib/python3.11/dist-packages (1.1.1)\n",
            "Requirement already satisfied: pandas in /usr/local/lib/python3.11/dist-packages (from eurostat) (2.2.2)\n",
            "Requirement already satisfied: requests in /usr/local/lib/python3.11/dist-packages (from eurostat) (2.32.3)\n",
            "Requirement already satisfied: numpy>=1.23.2 in /usr/local/lib/python3.11/dist-packages (from pandas->eurostat) (2.0.2)\n",
            "Requirement already satisfied: python-dateutil>=2.8.2 in /usr/local/lib/python3.11/dist-packages (from pandas->eurostat) (2.9.0.post0)\n",
            "Requirement already satisfied: pytz>=2020.1 in /usr/local/lib/python3.11/dist-packages (from pandas->eurostat) (2025.2)\n",
            "Requirement already satisfied: tzdata>=2022.7 in /usr/local/lib/python3.11/dist-packages (from pandas->eurostat) (2025.2)\n",
            "Requirement already satisfied: charset-normalizer<4,>=2 in /usr/local/lib/python3.11/dist-packages (from requests->eurostat) (3.4.2)\n",
            "Requirement already satisfied: idna<4,>=2.5 in /usr/local/lib/python3.11/dist-packages (from requests->eurostat) (3.10)\n",
            "Requirement already satisfied: urllib3<3,>=1.21.1 in /usr/local/lib/python3.11/dist-packages (from requests->eurostat) (2.4.0)\n",
            "Requirement already satisfied: certifi>=2017.4.17 in /usr/local/lib/python3.11/dist-packages (from requests->eurostat) (2025.4.26)\n",
            "Requirement already satisfied: six>=1.5 in /usr/local/lib/python3.11/dist-packages (from python-dateutil>=2.8.2->pandas->eurostat) (1.17.0)\n"
          ]
        }
      ]
    },
    {
      "cell_type": "code",
      "source": [
        "!pip install plotly pandas eurostat"
      ],
      "metadata": {
        "colab": {
          "base_uri": "https://localhost:8080/"
        },
        "id": "h8w5h5CwSAg_",
        "outputId": "c5541546-0a52-4ac8-b8aa-304c18f0b265"
      },
      "execution_count": 13,
      "outputs": [
        {
          "output_type": "stream",
          "name": "stdout",
          "text": [
            "Requirement already satisfied: plotly in /usr/local/lib/python3.11/dist-packages (5.24.1)\n",
            "Requirement already satisfied: pandas in /usr/local/lib/python3.11/dist-packages (2.2.2)\n",
            "Requirement already satisfied: eurostat in /usr/local/lib/python3.11/dist-packages (1.1.1)\n",
            "Requirement already satisfied: tenacity>=6.2.0 in /usr/local/lib/python3.11/dist-packages (from plotly) (9.1.2)\n",
            "Requirement already satisfied: packaging in /usr/local/lib/python3.11/dist-packages (from plotly) (24.2)\n",
            "Requirement already satisfied: numpy>=1.23.2 in /usr/local/lib/python3.11/dist-packages (from pandas) (2.0.2)\n",
            "Requirement already satisfied: python-dateutil>=2.8.2 in /usr/local/lib/python3.11/dist-packages (from pandas) (2.9.0.post0)\n",
            "Requirement already satisfied: pytz>=2020.1 in /usr/local/lib/python3.11/dist-packages (from pandas) (2025.2)\n",
            "Requirement already satisfied: tzdata>=2022.7 in /usr/local/lib/python3.11/dist-packages (from pandas) (2025.2)\n",
            "Requirement already satisfied: requests in /usr/local/lib/python3.11/dist-packages (from eurostat) (2.32.3)\n",
            "Requirement already satisfied: six>=1.5 in /usr/local/lib/python3.11/dist-packages (from python-dateutil>=2.8.2->pandas) (1.17.0)\n",
            "Requirement already satisfied: charset-normalizer<4,>=2 in /usr/local/lib/python3.11/dist-packages (from requests->eurostat) (3.4.2)\n",
            "Requirement already satisfied: idna<4,>=2.5 in /usr/local/lib/python3.11/dist-packages (from requests->eurostat) (3.10)\n",
            "Requirement already satisfied: urllib3<3,>=1.21.1 in /usr/local/lib/python3.11/dist-packages (from requests->eurostat) (2.4.0)\n",
            "Requirement already satisfied: certifi>=2017.4.17 in /usr/local/lib/python3.11/dist-packages (from requests->eurostat) (2025.4.26)\n"
          ]
        }
      ]
    },
    {
      "cell_type": "code",
      "source": [
        "#zadanie 1\n",
        "import pandas as pd\n",
        "import eurostat\n",
        "\n",
        "df = eurostat.get_data_df('une_rt_m')\n",
        "\n",
        "geo_col = [col for col in df.columns if 'geo' in col][0]\n",
        "df = df.rename(columns={geo_col: 'geo'})\n",
        "\n",
        "df = df[(df['s_adj'] == 'SA') & (df['sex'] == 'T') & (df['age'] == 'TOTAL')]\n",
        "df = df.drop(columns=['s_adj', 'sex', 'age', 'unit'])\n",
        "\n",
        "latest_month = [col for col in df.columns if col.startswith('20')][-1]\n",
        "\n",
        "df_latest = df[['geo', latest_month]].copy()\n",
        "df_latest.columns = ['country_code', 'unemployment_rate']\n",
        "\n",
        "country_code_map = {\n",
        "    'AT': 'Austria', 'BE': 'Belgium', 'BG': 'Bulgaria', 'HR': 'Croatia', 'CY': 'Cyprus',\n",
        "    'CZ': 'Czech Republic', 'DK': 'Denmark', 'EE': 'Estonia', 'FI': 'Finland', 'FR': 'France',\n",
        "    'DE': 'Germany', 'EL': 'Greece', 'HU': 'Hungary', 'IE': 'Ireland', 'IT': 'Italy',\n",
        "    'LV': 'Latvia', 'LT': 'Lithuania', 'LU': 'Luxembourg', 'MT': 'Malta', 'NL': 'Netherlands',\n",
        "    'PL': 'Poland', 'PT': 'Portugal', 'RO': 'Romania', 'SK': 'Slovakia', 'SI': 'Slovenia',\n",
        "    'ES': 'Spain', 'SE': 'Sweden', 'NO': 'Norway', 'IS': 'Iceland', 'CH': 'Switzerland'\n",
        "}\n",
        "\n",
        "df_latest['country'] = df_latest['country_code'].map(country_code_map)\n",
        "df_latest = df_latest.dropna(subset=['country'])\n",
        "df_latest = df_latest.sort_values(by='unemployment_rate', ascending=False)\n",
        "\n",
        "print(df_latest)\n"
      ],
      "metadata": {
        "colab": {
          "base_uri": "https://localhost:8080/"
        },
        "id": "5wXa2VvtSvbB",
        "outputId": "7c71d62f-a1d0-4915-87c6-75e334e426b4"
      },
      "execution_count": 17,
      "outputs": [
        {
          "output_type": "stream",
          "name": "stdout",
          "text": [
            "    country_code  unemployment_rate         country\n",
            "882           SE              489.0          Sweden\n",
            "877           NL              387.0     Netherlands\n",
            "865           FI              260.0         Finland\n",
            "869           IE              119.0         Ireland\n",
            "754           FI                9.1         Finland\n",
            "771           SE                8.5          Sweden\n",
            "758           IE                4.1         Ireland\n",
            "766           NL                3.8     Netherlands\n",
            "740           AT                NaN         Austria\n",
            "742           BE                NaN         Belgium\n",
            "743           BG                NaN        Bulgaria\n",
            "744           CH                NaN     Switzerland\n",
            "745           CY                NaN          Cyprus\n",
            "746           CZ                NaN  Czech Republic\n",
            "747           DE                NaN         Germany\n",
            "748           DK                NaN         Denmark\n",
            "750           EE                NaN         Estonia\n",
            "751           EL                NaN          Greece\n",
            "752           ES                NaN           Spain\n",
            "755           FR                NaN          France\n",
            "756           HR                NaN         Croatia\n",
            "757           HU                NaN         Hungary\n",
            "759           IS                NaN         Iceland\n",
            "760           IT                NaN           Italy\n",
            "762           LT                NaN       Lithuania\n",
            "763           LU                NaN      Luxembourg\n",
            "764           LV                NaN          Latvia\n",
            "765           MT                NaN           Malta\n",
            "767           NO                NaN          Norway\n",
            "768           PL                NaN          Poland\n",
            "769           PT                NaN        Portugal\n",
            "770           RO                NaN         Romania\n",
            "772           SI                NaN        Slovenia\n",
            "773           SK                NaN        Slovakia\n",
            "851           AT                NaN         Austria\n",
            "853           BE                NaN         Belgium\n",
            "854           BG                NaN        Bulgaria\n",
            "855           CH                NaN     Switzerland\n",
            "856           CY                NaN          Cyprus\n",
            "857           CZ                NaN  Czech Republic\n",
            "858           DE                NaN         Germany\n",
            "859           DK                NaN         Denmark\n",
            "861           EE                NaN         Estonia\n",
            "862           EL                NaN          Greece\n",
            "863           ES                NaN           Spain\n",
            "866           FR                NaN          France\n",
            "867           HR                NaN         Croatia\n",
            "868           HU                NaN         Hungary\n",
            "870           IS                NaN         Iceland\n",
            "871           IT                NaN           Italy\n",
            "873           LT                NaN       Lithuania\n",
            "874           LU                NaN      Luxembourg\n",
            "875           LV                NaN          Latvia\n",
            "876           MT                NaN           Malta\n",
            "878           NO                NaN          Norway\n",
            "879           PL                NaN          Poland\n",
            "880           PT                NaN        Portugal\n",
            "881           RO                NaN         Romania\n",
            "883           SI                NaN        Slovenia\n",
            "884           SK                NaN        Slovakia\n"
          ]
        }
      ]
    },
    {
      "cell_type": "code",
      "source": [
        "#zadanie 2\n",
        "from sklearn.datasets import load_wine\n",
        "\n",
        "wine = load_wine()\n",
        "feature_names = wine.feature_names\n",
        "feature_names\n",
        "\n",
        "wine_df = pd.DataFrame(np.hstack([wine.data, np.expand_dims(wine.target, axis=1)]), columns=wine.feature_names + ['target'])\n",
        "\n",
        "print(wine.data.shape)\n",
        "#99%\n",
        "pca = PCA(n_components=.99)\n",
        "pca.feature_names_in_ = wine_df.columns[:-1]\n",
        "reduced_1 = pca.fit_transform(wine_df[wine_df.columns[:-1]], wine_df[wine_df.columns[-1]])\n",
        "print(reduced_1.shape)\n",
        "#95%\n",
        "pca = PCA(n_components=.95)\n",
        "pca.feature_names_in_ = wine_df.columns[:-1]\n",
        "reduced_2 = pca.fit_transform(wine_df[wine_df.columns[:-1]], wine_df[wine_df.columns[-1]])\n",
        "print(reduced_2.shape)\n",
        "#90%\n",
        "pca = PCA(n_components=.90)\n",
        "pca.feature_names_in_ = wine_df.columns[:-1]\n",
        "reduced_3 = pca.fit_transform(wine_df[wine_df.columns[:-1]], wine_df[wine_df.columns[-1]])\n",
        "print(reduced_3.shape)"
      ],
      "metadata": {
        "colab": {
          "base_uri": "https://localhost:8080/"
        },
        "id": "jeiCYXNsTZBz",
        "outputId": "44850ad0-163e-4b34-84da-b5a00013140b"
      },
      "execution_count": 18,
      "outputs": [
        {
          "output_type": "stream",
          "name": "stdout",
          "text": [
            "(178, 13)\n",
            "(178, 1)\n",
            "(178, 1)\n",
            "(178, 1)\n"
          ]
        }
      ]
    },
    {
      "cell_type": "markdown",
      "source": [
        "zadanie 3"
      ],
      "metadata": {
        "id": "h8Y1mIMOTxxV"
      }
    },
    {
      "cell_type": "code",
      "source": [
        "pca = PCA(n_components=13)\n",
        "pca.feature_names_in_ = wine_df.columns[:-1]\n",
        "reduced_1 = pca.fit_transform(wine_df[wine_df.columns[:-1]], wine_df[wine_df.columns[-1]])\n",
        "pca.explained_variance_ratio_.round(3)"
      ],
      "metadata": {
        "colab": {
          "base_uri": "https://localhost:8080/"
        },
        "id": "4KlgE3bRTzIi",
        "outputId": "d3d52814-979c-4b3d-dcf1-736d1bc37080"
      },
      "execution_count": 19,
      "outputs": [
        {
          "output_type": "execute_result",
          "data": {
            "text/plain": [
              "array([0.998, 0.002, 0.   , 0.   , 0.   , 0.   , 0.   , 0.   , 0.   ,\n",
              "       0.   , 0.   , 0.   , 0.   ])"
            ]
          },
          "metadata": {},
          "execution_count": 19
        }
      ]
    },
    {
      "cell_type": "markdown",
      "source": [
        "zadaanie 4"
      ],
      "metadata": {
        "id": "HcFoVr82T0wq"
      }
    },
    {
      "cell_type": "code",
      "source": [
        "import pandas as pd\n",
        "import numpy as np\n",
        "from sklearn.feature_selection import SelectFromModel\n",
        "from sklearn.ensemble import RandomForestClassifier\n",
        "\n",
        "rf_model = RandomForestClassifier(n_estimators=100, random_state=42)\n",
        "rf_model.fit(wine.data, wine.target)\n",
        "\n",
        "feature_importances = pd.Series(rf_model.feature_importances_, index=wine.feature_names)\n",
        "feature_importances_sorted = feature_importances.sort_values(ascending=False)\n",
        "\n",
        "cumulative_importance = feature_importances_sorted.cumsum()\n",
        "\n",
        "threshold_99 = cumulative_importance[cumulative_importance >= 0.99].index[0]\n",
        "threshold_95 = cumulative_importance[cumulative_importance >= 0.95].index[0]\n",
        "threshold_90 = cumulative_importance[cumulative_importance >= 0.90].index[0]\n",
        "\n",
        "selector_99 = SelectFromModel(rf_model, threshold=feature_importances_sorted[threshold_99], prefit=True)\n",
        "X_selected_99 = selector_99.transform(wine.data)\n",
        "selected_features_99 = np.array(wine.feature_names)[selector_99.get_support()]\n",
        "\n",
        "selector_95 = SelectFromModel(rf_model, threshold=feature_importances_sorted[threshold_95], prefit=True)\n",
        "X_selected_95 = selector_95.transform(wine.data)\n",
        "selected_features_95 = np.array(wine.feature_names)[selector_95.get_support()]\n",
        "\n",
        "selector_90 = SelectFromModel(rf_model, threshold=feature_importances_sorted[threshold_90], prefit=True)\n",
        "X_selected_90 = selector_90.transform(wine.data)\n",
        "selected_features_90 = np.array(wine.feature_names)[selector_90.get_support()]\n",
        "\n",
        "print(f\"Features selected for cumulative importance >= 99% ({X_selected_99.shape[1]} features):\")\n",
        "print(selected_features_99)\n",
        "print(f\"Features selected for cumulative importance >= 95% ({X_selected_95.shape[1]} features):\")\n",
        "print(selected_features_95)\n",
        "print(f\"Features selected for cumulative importance >= 90% ({X_selected_90.shape[1]} features):\")\n",
        "print(selected_features_90)\n",
        "print(\"\\nComparison of number of features/components:\")\n",
        "print(f\"Task 2 (PCA 99% variance): {reduced_1.shape[1]} components\")\n",
        "print(f\"Task 2 (PCA 95% variance): {reduced_2.shape[1]} components\")\n",
        "print(f\"Task 2 (PCA 90% variance): {reduced_3.shape[1]} components\")\n",
        "print(f\"Task 4 (RF 99% cumulative importance): {X_selected_99.shape[1]} features\")\n",
        "print(f\"Task 4 (RF 95% cumulative importance): {X_selected_95.shape[1]} features\")\n",
        "print(f\"Task 4 (RF 90% cumulative importance): {X_selected_90.shape[1]} features\")\n",
        "\n"
      ],
      "metadata": {
        "colab": {
          "base_uri": "https://localhost:8080/"
        },
        "id": "-NMoW9wRTtYS",
        "outputId": "bdceecd3-0c0d-4de2-e0ba-b787231dc693"
      },
      "execution_count": 21,
      "outputs": [
        {
          "output_type": "stream",
          "name": "stdout",
          "text": [
            "Features selected for cumulative importance >= 99% (12 features):\n",
            "['alcohol' 'malic_acid' 'ash' 'alcalinity_of_ash' 'magnesium'\n",
            " 'total_phenols' 'flavanoids' 'proanthocyanins' 'color_intensity' 'hue'\n",
            " 'od280/od315_of_diluted_wines' 'proline']\n",
            "Features selected for cumulative importance >= 95% (10 features):\n",
            "['alcohol' 'malic_acid' 'alcalinity_of_ash' 'magnesium' 'total_phenols'\n",
            " 'flavanoids' 'color_intensity' 'hue' 'od280/od315_of_diluted_wines'\n",
            " 'proline']\n",
            "Features selected for cumulative importance >= 90% (8 features):\n",
            "['alcohol' 'malic_acid' 'total_phenols' 'flavanoids' 'color_intensity'\n",
            " 'hue' 'od280/od315_of_diluted_wines' 'proline']\n",
            "\n",
            "Comparison of number of features/components:\n",
            "Task 2 (PCA 99% variance): 13 components\n",
            "Task 2 (PCA 95% variance): 1 components\n",
            "Task 2 (PCA 90% variance): 1 components\n",
            "Task 4 (RF 99% cumulative importance): 12 features\n",
            "Task 4 (RF 95% cumulative importance): 10 features\n",
            "Task 4 (RF 90% cumulative importance): 8 features\n"
          ]
        }
      ]
    }
  ]
}