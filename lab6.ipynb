{
  "nbformat": 4,
  "nbformat_minor": 0,
  "metadata": {
    "colab": {
      "provenance": []
    },
    "kernelspec": {
      "name": "python3",
      "display_name": "Python 3"
    },
    "language_info": {
      "name": "python"
    }
  },
  "cells": [
    {
      "cell_type": "code",
      "execution_count": 1,
      "metadata": {
        "id": "KBGZuGSxNjIP"
      },
      "outputs": [],
      "source": [
        "import pandas as pd\n",
        "import numpy as np\n",
        "import os"
      ]
    },
    {
      "cell_type": "markdown",
      "source": [
        "zadanie 1"
      ],
      "metadata": {
        "id": "klT9GF_aOV-h"
      }
    },
    {
      "cell_type": "code",
      "source": [
        "DATAPATH = './data/'\n",
        "df_zam = pd.read_csv(os.path.join(DATAPATH,'/content/zamowienia.csv'), sep=';')\n",
        "print(\"1.1 Czy są wartości brakujące w oryginalnych danych?\")\n",
        "print(df_zam.isna().sum())\n",
        "\n",
        "\n",
        "n = len(df_zam)\n",
        "indices = np.random.choice(n, size=int(0.1*n), replace=False)\n",
        "df_zam_with_missing = df_zam.copy()\n",
        "df_zam_with_missing.loc[indices, 'Sprzedawca'] = 'BRAK'\n",
        "\n",
        "# 1.3\n",
        "indices = np.random.choice(n, size=int(0.05*n), replace=False)\n",
        "df_zam_with_missing.loc[indices, 'idZamowienia'] = np.nan\n",
        "\n",
        "# 1.4\n",
        "indices = np.random.choice(n, size=int(0.2*n), replace=False)\n",
        "df_zam_with_missing.loc[indices, 'Data zamowienia'] = np.nan\n",
        "\n",
        "# 1.5\n",
        "indices = np.random.choice(n, size=int(0.15*n), replace=False)\n",
        "df_zam_with_missing.loc[indices, 'Utarg'] = np.nan\n",
        "\n",
        "# 1.6\n",
        "df_missing = df_zam_with_missing.copy()\n",
        "print(\" Podsumowanie wartości brakujących w zmodyfikowanym zbiorze:\")\n",
        "print(df_missing.isna().sum())"
      ],
      "metadata": {
        "colab": {
          "base_uri": "https://localhost:8080/"
        },
        "id": "RQIEWdrROQL-",
        "outputId": "29dc64d1-f0f6-4db9-c001-299688162e8d"
      },
      "execution_count": 2,
      "outputs": [
        {
          "output_type": "stream",
          "name": "stdout",
          "text": [
            "1.1 Czy są wartości brakujące w oryginalnych danych?\n",
            "Kraj               0\n",
            "Sprzedawca         0\n",
            "Data zamowienia    0\n",
            "idZamowienia       0\n",
            "Utarg              0\n",
            "dtype: int64\n",
            " Podsumowanie wartości brakujących w zmodyfikowanym zbiorze:\n",
            "Kraj                 0\n",
            "Sprzedawca           0\n",
            "Data zamowienia    159\n",
            "idZamowienia        39\n",
            "Utarg              119\n",
            "dtype: int64\n"
          ]
        }
      ]
    },
    {
      "cell_type": "code",
      "source": [
        "# 2.1\n",
        "df_filled = df_missing.copy()\n",
        "df_filled['idZamowienia'] = df_filled['idZamowienia'].fillna(0)\n",
        "\n",
        "# 2.2\n",
        "df_filled['Data zamowienia'] = df_filled['Data zamowienia'].ffill()\n",
        "\n",
        "# 2.3\n",
        "mean_by_country = df_filled.groupby('Kraj')['Utarg'].transform('mean')\n",
        "df_filled['Utarg'] = df_filled['Utarg'].fillna(mean_by_country)\n",
        "\n",
        "print(\" Podsumowanie wartości brakujących po wypełnieniu:\")\n",
        "print(df_filled.isna().sum())"
      ],
      "metadata": {
        "colab": {
          "base_uri": "https://localhost:8080/"
        },
        "id": "DoW2Bg_yO6IZ",
        "outputId": "c6255328-1f6a-4a7f-e856-7c6396d94726"
      },
      "execution_count": 3,
      "outputs": [
        {
          "output_type": "stream",
          "name": "stdout",
          "text": [
            " Podsumowanie wartości brakujących po wypełnieniu:\n",
            "Kraj               0\n",
            "Sprzedawca         0\n",
            "Data zamowienia    0\n",
            "idZamowienia       0\n",
            "Utarg              0\n",
            "dtype: int64\n"
          ]
        }
      ]
    },
    {
      "cell_type": "markdown",
      "source": [
        "zadanie 3"
      ],
      "metadata": {
        "id": "zaxGGOAbPBxd"
      }
    },
    {
      "cell_type": "code",
      "source": [
        "import matplotlib.pyplot as plt\n",
        "\n",
        "def compare_distributions(df_1, df_2, feature, bins=20):\n",
        "    plt.figure(figsize=(10, 5))\n",
        "\n",
        "    df_1[feature].hist(bins=bins, alpha=0.5, density=True, color='blue', label='Oryginalne')\n",
        "    df_1[feature].plot.density(color='blue')\n",
        "\n",
        "    df_2[feature].hist(bins=bins, alpha=0.5, density=True, color='red', label='Po wypełnieniu')\n",
        "    df_2[feature].plot.density(color='red')\n",
        "\n",
        "    plt.title(f'Porównanie rozkładów dla cechy: {feature}')\n",
        "    plt.legend()\n",
        "    plt.show()\n",
        "\n",
        "print(\" Porównanie rozkładów cechy Utarg:\")\n",
        "compare_distributions(df_zam, df_filled, 'Utarg')"
      ],
      "metadata": {
        "colab": {
          "base_uri": "https://localhost:8080/",
          "height": 485
        },
        "id": "9Pkwt_2vO-Im",
        "outputId": "03455468-8072-4136-b02e-a3de91d0062f"
      },
      "execution_count": 4,
      "outputs": [
        {
          "output_type": "stream",
          "name": "stdout",
          "text": [
            " Porównanie rozkładów cechy Utarg:\n"
          ]
        },
        {
          "output_type": "display_data",
          "data": {
            "text/plain": [
              "<Figure size 1000x500 with 1 Axes>"
            ],
            "image/png": "[encoded data removed]"
          },
          "metadata": {}
        }
      ]
    },
    {
      "cell_type": "code",
      "source": [
        "# 4.1\n",
        "print(\"Średnia wartość zamówienia dla każdego kraju:\")\n",
        "print(df_zam.groupby('Kraj')['Utarg'].mean())\n",
        "\n",
        "# 4.2\n",
        "df_zam['Data zamowienia'] = pd.to_datetime(df_zam['Data zamowienia'])\n",
        "df_zam['Rok'] = df_zam['Data zamowienia'].dt.year\n",
        "df_zam['Miesiac'] = df_zam['Data zamowienia'].dt.month\n",
        "\n",
        "print(\"Średnia wartość zamówienia dla każdego roku i miesiąca:\")\n",
        "print(df_zam.groupby(['Rok', 'Miesiac'])['Utarg'].mean())\n",
        "\n",
        "# 4.3\n",
        "print(\"Liczba zamówień dla każdego sprzedawcy w danym roku:\")\n",
        "print(df_zam.groupby(['Sprzedawca', 'Rok'])['idZamowienia'].count())\n",
        "\n",
        "# 4.4\n",
        "print(\"Sprzedawca z najwyższym utargiem w każdym kraju:\")\n",
        "top_sellers = df_zam.groupby(['Kraj', 'Sprzedawca'])['Utarg'].sum().reset_index()\n",
        "top_sellers = top_sellers.loc[top_sellers.groupby('Kraj')['Utarg'].idxmax()]\n",
        "print(top_sellers[['Kraj', 'Sprzedawca', 'Utarg']])\n",
        "\n",
        "# 4.5\n",
        "df_zam['Kwartal'] = df_zam['Data zamowienia'].dt.quarter\n",
        "quarterly_sales = df_zam.groupby(['Rok', 'Kwartal'])['Utarg'].sum().sort_values(ascending=False)\n",
        "print(\"Suma utargu w każdym kwartale (posortowane):\")\n",
        "print(quarterly_sales)"
      ],
      "metadata": {
        "colab": {
          "base_uri": "https://localhost:8080/"
        },
        "id": "U-E8RM5SPGOV",
        "outputId": "71809211-1977-4019-eb4d-5b6741e46214"
      },
      "execution_count": 5,
      "outputs": [
        {
          "output_type": "stream",
          "name": "stdout",
          "text": [
            "Średnia wartość zamówienia dla każdego kraju:\n",
            "Kraj\n",
            "Niemcy    1532.528236\n",
            "Polska    1550.376326\n",
            "Name: Utarg, dtype: float64\n",
            "Średnia wartość zamówienia dla każdego roku i miesiąca:\n",
            "Rok   Miesiac\n",
            "2003  7          1218.251176\n",
            "      8          1097.598696\n",
            "      9           858.577143\n",
            "      10         1456.390000\n",
            "      11         1973.045000\n",
            "      12         1443.086875\n",
            "2004  1          1914.425000\n",
            "      2          1164.535926\n",
            "      3          1484.822187\n",
            "      4          1053.214667\n",
            "      5          1999.229687\n",
            "      6          1669.432667\n",
            "      7          1211.127097\n",
            "      8          1562.998889\n",
            "      9          1329.139737\n",
            "      10         2064.032778\n",
            "      11         1123.419722\n",
            "      12         1632.980000\n",
            "2005  1          1487.635357\n",
            "      2          2132.384815\n",
            "      3          1157.157910\n",
            "      4          1931.107297\n",
            "      5          1155.370000\n",
            "Name: Utarg, dtype: float64\n",
            "Liczba zamówień dla każdego sprzedawcy w danym roku:\n",
            "Sprzedawca  Rok \n",
            "Callahan    2003    17\n",
            "            2004    55\n",
            "            2005    27\n",
            "Davolio     2003    23\n",
            "            2004    56\n",
            "            2005    38\n",
            "Dudek       2003     5\n",
            "            2004    18\n",
            "            2005    18\n",
            "Fuller      2003    14\n",
            "            2004    41\n",
            "            2005    37\n",
            "King        2003    11\n",
            "            2004    34\n",
            "            2005    22\n",
            "Kowalski    2003    10\n",
            "            2004    19\n",
            "            2005    13\n",
            "Leverling   2003    18\n",
            "            2004    67\n",
            "            2005    40\n",
            "Peacock     2003    31\n",
            "            2004    78\n",
            "            2005    42\n",
            "Sowiński    2003    14\n",
            "            2004    31\n",
            "            2005    20\n",
            "Name: idZamowienia, dtype: int64\n",
            "Sprzedawca z najwyższym utargiem w każdym kraju:\n",
            "     Kraj Sprzedawca      Utarg\n",
            "4  Niemcy    Peacock  225763.68\n",
            "6  Polska       King  116962.99\n",
            "Suma utargu w każdym kwartale (posortowane):\n",
            "Rok   Kwartal\n",
            "2005  1          275985.94\n",
            "2004  4          175168.55\n",
            "2005  2          149834.16\n",
            "2004  2          145654.77\n",
            "      3          144320.21\n",
            "      1          144047.23\n",
            "2003  4          129331.38\n",
            "      3           63985.16\n",
            "Name: Utarg, dtype: float64\n"
          ]
        }
      ]
    }
  ]
}