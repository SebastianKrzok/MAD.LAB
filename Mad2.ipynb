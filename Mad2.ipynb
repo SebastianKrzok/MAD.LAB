{
  "nbformat": 4,
  "nbformat_minor": 0,
  "metadata": {
    "colab": {
      "provenance": []
    },
    "kernelspec": {
      "name": "python3",
      "display_name": "Python 3"
    },
    "language_info": {
      "name": "python"
    }
  },
  "cells": [
    {
      "cell_type": "code",
      "source": [],
      "metadata": {
        "id": "oJ3TOKj4uy_d"
      },
      "execution_count": null,
      "outputs": []
    },
    {
      "cell_type": "markdown",
      "source": [
        "Stwórz tablicę numpy o wymiarach (4,4) wypełnioną wartościami od 2 do 32 z krokiem 2 i przypisz ją do zmiennej. Wyświetl jej typ danch, liczbę elementów, wielkość pojedynczego elementu oraz ilość zaalokowanej pamięci.\n",
        "\n",
        "Zadanie 2\n",
        "\n",
        "Zwróć tablicę z zadania 1 jako widok. Zmień jej typ danych (możesz to zrobić np. funkcją astype()) na np.uint8. Sprawdź teraz czy tablica jest widokiem czy kopią tablicy oryginalnej. Wyświetl jej liczbę elementów, wielkość pojedynczego elementu oraz ilość zaalokowanej pamięci.\n",
        "\n",
        "Zadanie 3\n",
        "\n",
        "Wytnij z tablicy z zadania 1 obszar 2 x 2 \"ze środka\" tablicy (wartości 12,14, 20,22) na dwa sposoby:\n",
        "\n",
        "jeden jako widok i przypisz do zmiennej\n",
        "drugi jako kopia i przypisz do zmiennej\n",
        "Posługując się przykładami z zajęć sprawdź czy baza tych dwóch tablic jest różna (powinna być).\n",
        "\n",
        "Zadanie 4\n",
        "\n",
        "Stwórz tablicę 4x4, która zawiera wartości 1,2,3,4 w każdym wierszu. Następnie wykorzystując funkcje łączenia tablic utwórz tablicę połączoną z powyższej tablicy i jej wersji lustrzanej w poziomie (spróbuj użyć wycinków).\n",
        "\n",
        "Zadanie 5\n",
        "\n",
        "Utwórz tablicę o nazwie Z_5 o wymiarach 2x2 wypełnioną wartościami 1. Wykorzystując funkcje łączenia tabel uwtórz tablicę, która finalnie będzie tablicą składającą się z 4-ech tablic Z_5, ale tak aby finalnie była to tablica 4 x 4 podobna do poniższej:\n",
        "\n",
        "1,1,2,2\n",
        "1,1,2,2\n",
        "3,3,4,4\n",
        "3,3,4,4"
      ],
      "metadata": {
        "id": "OQd-vjjtuvyP"
      }
    },
    {
      "cell_type": "markdown",
      "source": [
        "Zadanie 1"
      ],
      "metadata": {
        "id": "jGbQcnbvtOtT"
      }
    },
    {
      "cell_type": "code",
      "execution_count": null,
      "metadata": {
        "id": "4olFb1FGtJiP"
      },
      "outputs": [],
      "source": [
        "import numpy as np"
      ]
    },
    {
      "cell_type": "code",
      "source": [
        "A = np.arange(2, 34, 2).reshape((4,4))\n",
        "print(A)"
      ],
      "metadata": {
        "colab": {
          "base_uri": "https://localhost:8080/"
        },
        "id": "R_CGLkvmtmO1",
        "outputId": "9fc67fd8-02b4-4455-b509-00bdc89cf631"
      },
      "execution_count": null,
      "outputs": [
        {
          "output_type": "stream",
          "name": "stdout",
          "text": [
            "[[ 2  4  6  8]\n",
            " [10 12 14 16]\n",
            " [18 20 22 24]\n",
            " [26 28 30 32]]\n"
          ]
        }
      ]
    },
    {
      "cell_type": "code",
      "source": [
        "A.nbytes"
      ],
      "metadata": {
        "colab": {
          "base_uri": "https://localhost:8080/"
        },
        "id": "dGWManNhv_z0",
        "outputId": "b70e4028-5362-4c21-9882-6039d7a58fb9"
      },
      "execution_count": null,
      "outputs": [
        {
          "output_type": "execute_result",
          "data": {
            "text/plain": [
              "128"
            ]
          },
          "metadata": {},
          "execution_count": 4
        }
      ]
    },
    {
      "cell_type": "code",
      "source": [
        "# wielkość pojedynczego elementu (w bajtach)\n",
        "A.itemsize"
      ],
      "metadata": {
        "colab": {
          "base_uri": "https://localhost:8080/"
        },
        "id": "knhkBOAywb57",
        "outputId": "dbeb2d00-3a37-467d-ea77-9ca1721c429e"
      },
      "execution_count": null,
      "outputs": [
        {
          "output_type": "execute_result",
          "data": {
            "text/plain": [
              "8"
            ]
          },
          "metadata": {},
          "execution_count": 5
        }
      ]
    },
    {
      "cell_type": "code",
      "source": [
        "# co daje nam ilość zaalokowanej pamięci dla elementów tablicy\n",
        "A.itemsize * A.size"
      ],
      "metadata": {
        "colab": {
          "base_uri": "https://localhost:8080/"
        },
        "id": "iHC4kFAzwpHO",
        "outputId": "e6b02729-3a90-4753-baf6-361aee1c5838"
      },
      "execution_count": null,
      "outputs": [
        {
          "output_type": "execute_result",
          "data": {
            "text/plain": [
              "128"
            ]
          },
          "metadata": {},
          "execution_count": 6
        }
      ]
    },
    {
      "cell_type": "code",
      "source": [
        "# liczba elementów w tablicy\n",
        "A.size"
      ],
      "metadata": {
        "colab": {
          "base_uri": "https://localhost:8080/"
        },
        "id": "qrywQd5RwiyH",
        "outputId": "3af1e95c-b5e5-4641-a6b8-2ff33875ca99"
      },
      "execution_count": null,
      "outputs": [
        {
          "output_type": "execute_result",
          "data": {
            "text/plain": [
              "16"
            ]
          },
          "metadata": {},
          "execution_count": 8
        }
      ]
    },
    {
      "cell_type": "markdown",
      "source": [
        "Zadanie 2"
      ],
      "metadata": {
        "id": "bp4RgaCjxDou"
      }
    },
    {
      "cell_type": "code",
      "source": [
        "tab_uint8 = A.astype(np.uint8)\n",
        "print(tab_uint8)\n"
      ],
      "metadata": {
        "colab": {
          "base_uri": "https://localhost:8080/"
        },
        "id": "VEp2BH5yxGOy",
        "outputId": "15c36b93-5ce7-412e-d5ec-704236565f77"
      },
      "execution_count": null,
      "outputs": [
        {
          "output_type": "stream",
          "name": "stdout",
          "text": [
            "[[ 2  4  6  8]\n",
            " [10 12 14 16]\n",
            " [18 20 22 24]\n",
            " [26 28 30 32]]\n"
          ]
        }
      ]
    },
    {
      "cell_type": "code",
      "source": [
        "tab_uint8.dtype"
      ],
      "metadata": {
        "colab": {
          "base_uri": "https://localhost:8080/"
        },
        "id": "10kNXpkMydQE",
        "outputId": "adbf3e87-e351-4cad-ce11-5d1b3dc88954"
      },
      "execution_count": null,
      "outputs": [
        {
          "output_type": "execute_result",
          "data": {
            "text/plain": [
              "dtype('uint8')"
            ]
          },
          "metadata": {},
          "execution_count": 9
        }
      ]
    },
    {
      "cell_type": "markdown",
      "source": [
        "Zadanie 3"
      ],
      "metadata": {
        "id": "tCdxtz3q0b7j"
      }
    },
    {
      "cell_type": "code",
      "source": [
        "print(A[1:3, 1:3])"
      ],
      "metadata": {
        "colab": {
          "base_uri": "https://localhost:8080/"
        },
        "id": "aLwGNU7l0gGG",
        "outputId": "a31db77e-9c71-4f67-aff6-4956e5e180a3"
      },
      "execution_count": null,
      "outputs": [
        {
          "output_type": "stream",
          "name": "stdout",
          "text": [
            "[[12 14]\n",
            " [20 22]]\n"
          ]
        }
      ]
    },
    {
      "cell_type": "code",
      "source": [
        "def get_data_base(x):\n",
        "    base = x\n",
        "    while isinstance(base.base, np.ndarray):\n",
        "        base = base.base\n",
        "    return base\n",
        "\n",
        "def arrays_share_data(x, y):\n",
        "    return get_data_base(x) is get_data_base(y)"
      ],
      "metadata": {
        "id": "I7o-ZjJr1CFE"
      },
      "execution_count": null,
      "outputs": []
    },
    {
      "cell_type": "code",
      "source": [
        "C_widok = A[1:3, 1:3]\n",
        "C_kopia = A[1:3, 1:3].copy()\n",
        "print(arrays_share_data(C_widok, A))\n",
        "print(arrays_share_data(C_kopia, A))\n"
      ],
      "metadata": {
        "colab": {
          "base_uri": "https://localhost:8080/"
        },
        "id": "6ze_slbe-l-H",
        "outputId": "e5c9ebd3-75b4-4a0a-dc81-e7a9cfbe6a0b"
      },
      "execution_count": null,
      "outputs": [
        {
          "output_type": "stream",
          "name": "stdout",
          "text": [
            "True\n",
            "False\n"
          ]
        }
      ]
    },
    {
      "cell_type": "markdown",
      "source": [
        "zadanie 4"
      ],
      "metadata": {
        "id": "VBNWpcXz-y9r"
      }
    },
    {
      "cell_type": "code",
      "source": [
        "D = np.tile(np.arange(1, 5), (4, 1))\n",
        "D_lustrzane = D[:, ::-1]\n",
        "D_polaczone = np.hstack((D, D_lustrzane))\n",
        "print(\"Tablica połączona:\")\n",
        "print(D_polaczone)"
      ],
      "metadata": {
        "colab": {
          "base_uri": "https://localhost:8080/"
        },
        "id": "D9-W33Lj-zOz",
        "outputId": "83988092-1ba0-4439-c2fe-decb67d391d1"
      },
      "execution_count": null,
      "outputs": [
        {
          "output_type": "stream",
          "name": "stdout",
          "text": [
            "Tablica połączona:\n",
            "[[1 2 3 4 4 3 2 1]\n",
            " [1 2 3 4 4 3 2 1]\n",
            " [1 2 3 4 4 3 2 1]\n",
            " [1 2 3 4 4 3 2 1]]\n"
          ]
        }
      ]
    },
    {
      "cell_type": "markdown",
      "source": [
        "zadanie 5"
      ],
      "metadata": {
        "id": "KfOrMc0P-4oM"
      }
    },
    {
      "cell_type": "code",
      "source": [
        "Z_5 = np.ones((2, 2), dtype=int)\n",
        "Z_finalna = np.block([[Z_5, Z_5 + 1], [Z_5 + 2, Z_5 + 3]])\n",
        "print(\"Finalna tablica:\")\n",
        "print(Z_finalna)"
      ],
      "metadata": {
        "colab": {
          "base_uri": "https://localhost:8080/"
        },
        "id": "4oJy_7I8-4xH",
        "outputId": "e7b5c396-0723-47be-e500-12ce0d8ef365"
      },
      "execution_count": null,
      "outputs": [
        {
          "output_type": "stream",
          "name": "stdout",
          "text": [
            "Finalna tablica:\n",
            "[[1 1 2 2]\n",
            " [1 1 2 2]\n",
            " [3 3 4 4]\n",
            " [3 3 4 4]]\n"
          ]
        }
      ]
    }
  ]
}