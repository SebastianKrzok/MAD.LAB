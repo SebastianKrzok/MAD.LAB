{
  "nbformat": 4,
  "nbformat_minor": 0,
  "metadata": {
    "colab": {
      "provenance": []
    },
    "kernelspec": {
      "name": "python3",
      "display_name": "Python 3"
    },
    "language_info": {
      "name": "python"
    }
  },
  "cells": [
    {
      "cell_type": "markdown",
      "source": [
        "zadanie 1"
      ],
      "metadata": {
        "id": "ADF-s6CqMur_"
      }
    },
    {
      "cell_type": "code",
      "execution_count": 1,
      "metadata": {
        "colab": {
          "base_uri": "https://localhost:8080/"
        },
        "id": "-fpIYmA0K0L4",
        "outputId": "b690b1e3-7292-4276-de40-1214c9b80288"
      },
      "outputs": [
        {
          "output_type": "stream",
          "name": "stdout",
          "text": [
            "ean_001    1\n",
            "ean_002    2\n",
            "ean_003    3\n",
            "ean_004    4\n",
            "ean_005    5\n",
            "dtype: int64\n"
          ]
        }
      ],
      "source": [
        "import pandas as pd\n",
        "\n",
        "values = list(range(1, 101))\n",
        "index = [f\"ean_{i:03}\" for i in range(1, 101)]\n",
        "series = pd.Series(values, index=index)\n",
        "print(series.head())\n"
      ]
    },
    {
      "cell_type": "markdown",
      "source": [
        "zadanie 2"
      ],
      "metadata": {
        "id": "Vs4emSDxMzp5"
      }
    },
    {
      "cell_type": "code",
      "source": [
        "import numpy as np\n",
        "\n",
        "base = np.arange(1, 11).reshape(10, 1)\n",
        "powers = np.power(base, np.arange(1, 11))\n",
        "\n",
        "columns = ['base'] + [f'pow_{i}' for i in range(2, 11)]\n",
        "df = pd.DataFrame(powers, columns=columns)\n",
        "print(df)\n"
      ],
      "metadata": {
        "colab": {
          "base_uri": "https://localhost:8080/"
        },
        "id": "JrCyBGeuK28v",
        "outputId": "49b1f297-b7d5-4571-edc7-fe674ae6ae74"
      },
      "execution_count": 2,
      "outputs": [
        {
          "output_type": "stream",
          "name": "stdout",
          "text": [
            "   base  pow_2  pow_3  pow_4   pow_5    pow_6     pow_7      pow_8  \\\n",
            "0     1      1      1      1       1        1         1          1   \n",
            "1     2      4      8     16      32       64       128        256   \n",
            "2     3      9     27     81     243      729      2187       6561   \n",
            "3     4     16     64    256    1024     4096     16384      65536   \n",
            "4     5     25    125    625    3125    15625     78125     390625   \n",
            "5     6     36    216   1296    7776    46656    279936    1679616   \n",
            "6     7     49    343   2401   16807   117649    823543    5764801   \n",
            "7     8     64    512   4096   32768   262144   2097152   16777216   \n",
            "8     9     81    729   6561   59049   531441   4782969   43046721   \n",
            "9    10    100   1000  10000  100000  1000000  10000000  100000000   \n",
            "\n",
            "        pow_9       pow_10  \n",
            "0           1            1  \n",
            "1         512         1024  \n",
            "2       19683        59049  \n",
            "3      262144      1048576  \n",
            "4     1953125      9765625  \n",
            "5    10077696     60466176  \n",
            "6    40353607    282475249  \n",
            "7   134217728   1073741824  \n",
            "8   387420489   3486784401  \n",
            "9  1000000000  10000000000  \n"
          ]
        }
      ]
    },
    {
      "cell_type": "markdown",
      "source": [
        "zadanie 3"
      ],
      "metadata": {
        "id": "kZqu0HZEM11N"
      }
    },
    {
      "cell_type": "code",
      "source": [
        "print(np.shares_memory(df.values, powers))\n",
        "\n",
        "df_shared = pd.DataFrame(powers, copy=False, columns=columns)\n",
        "print(np.shares_memory(df_shared.values, powers))"
      ],
      "metadata": {
        "colab": {
          "base_uri": "https://localhost:8080/"
        },
        "id": "fQdovUdtK6ni",
        "outputId": "f11e8cd2-536f-438e-e806-2712420554bc"
      },
      "execution_count": 5,
      "outputs": [
        {
          "output_type": "stream",
          "name": "stdout",
          "text": [
            "True\n",
            "True\n"
          ]
        }
      ]
    },
    {
      "cell_type": "markdown",
      "source": [
        "zadanie 4\n",
        "\n"
      ],
      "metadata": {
        "id": "w1RbQXZBM41z"
      }
    },
    {
      "cell_type": "code",
      "source": [
        "print(df.dtypes)\n",
        "\n",
        "print(df.memory_usage(deep=True))\n",
        "\n",
        "df_optimized = df.astype(np.uint32)\n",
        "print(df_optimized.memory_usage(deep=True))\n",
        "\n",
        "print((df == df_optimized).all())\n"
      ],
      "metadata": {
        "colab": {
          "base_uri": "https://localhost:8080/"
        },
        "id": "jUyH9-NGLDPv",
        "outputId": "625e1612-a721-4eb4-8493-3c259ebd9b4b"
      },
      "execution_count": 6,
      "outputs": [
        {
          "output_type": "stream",
          "name": "stdout",
          "text": [
            "base      int64\n",
            "pow_2     int64\n",
            "pow_3     int64\n",
            "pow_4     int64\n",
            "pow_5     int64\n",
            "pow_6     int64\n",
            "pow_7     int64\n",
            "pow_8     int64\n",
            "pow_9     int64\n",
            "pow_10    int64\n",
            "dtype: object\n",
            "Index     132\n",
            "base       80\n",
            "pow_2      80\n",
            "pow_3      80\n",
            "pow_4      80\n",
            "pow_5      80\n",
            "pow_6      80\n",
            "pow_7      80\n",
            "pow_8      80\n",
            "pow_9      80\n",
            "pow_10     80\n",
            "dtype: int64\n",
            "Index     132\n",
            "base       40\n",
            "pow_2      40\n",
            "pow_3      40\n",
            "pow_4      40\n",
            "pow_5      40\n",
            "pow_6      40\n",
            "pow_7      40\n",
            "pow_8      40\n",
            "pow_9      40\n",
            "pow_10     40\n",
            "dtype: int64\n",
            "base       True\n",
            "pow_2      True\n",
            "pow_3      True\n",
            "pow_4      True\n",
            "pow_5      True\n",
            "pow_6      True\n",
            "pow_7      True\n",
            "pow_8      True\n",
            "pow_9      True\n",
            "pow_10    False\n",
            "dtype: bool\n"
          ]
        }
      ]
    },
    {
      "cell_type": "markdown",
      "source": [
        "zadanie 5"
      ],
      "metadata": {
        "id": "ovx-F6MTM9yN"
      }
    },
    {
      "cell_type": "code",
      "source": [
        "iris = pd.read_csv('/content/iris.data', header=None)\n",
        "print(iris.head())"
      ],
      "metadata": {
        "colab": {
          "base_uri": "https://localhost:8080/"
        },
        "id": "pLCOf88bLJIF",
        "outputId": "6868276d-7160-4661-f077-291f2747f3a0"
      },
      "execution_count": 8,
      "outputs": [
        {
          "output_type": "stream",
          "name": "stdout",
          "text": [
            "                    0                  1                   2  \\\n",
            "0  sepal length in cm  sepal width in cm  petal length in cm   \n",
            "1                 5.1                3.5                 1.4   \n",
            "2                 4.9                3.0                 1.4   \n",
            "3                 4.7                3.2                 1.3   \n",
            "4                 4.6                3.1                 1.5   \n",
            "\n",
            "                   3            4  \n",
            "0  petal width in cm        class  \n",
            "1                0.2  Iris-setosa  \n",
            "2                0.2  Iris-setosa  \n",
            "3                0.2  Iris-setosa  \n",
            "4                0.2  Iris-setosa  \n"
          ]
        }
      ]
    },
    {
      "cell_type": "markdown",
      "source": [
        "zadanie 6"
      ],
      "metadata": {
        "id": "Vv_lni9gNBAQ"
      }
    },
    {
      "cell_type": "code",
      "source": [
        "iris.columns = ['sepal length', 'sepal width', 'petal length', 'petal width', 'class']\n",
        "\n",
        "iris.columns = iris.columns.str.replace(' ', '_')\n",
        "print(iris.head(10))\n"
      ],
      "metadata": {
        "colab": {
          "base_uri": "https://localhost:8080/"
        },
        "id": "-C_8raurLhA8",
        "outputId": "3c2929cf-ba90-4109-fb72-ddf149b10562"
      },
      "execution_count": 9,
      "outputs": [
        {
          "output_type": "stream",
          "name": "stdout",
          "text": [
            "         sepal_length        sepal_width        petal_length  \\\n",
            "0  sepal length in cm  sepal width in cm  petal length in cm   \n",
            "1                 5.1                3.5                 1.4   \n",
            "2                 4.9                3.0                 1.4   \n",
            "3                 4.7                3.2                 1.3   \n",
            "4                 4.6                3.1                 1.5   \n",
            "5                 5.0                3.6                 1.4   \n",
            "6                 5.4                3.9                 1.7   \n",
            "7                 4.6                3.4                 1.4   \n",
            "8                 5.0                3.4                 1.5   \n",
            "9                 4.4                2.9                 1.4   \n",
            "\n",
            "         petal_width        class  \n",
            "0  petal width in cm        class  \n",
            "1                0.2  Iris-setosa  \n",
            "2                0.2  Iris-setosa  \n",
            "3                0.2  Iris-setosa  \n",
            "4                0.2  Iris-setosa  \n",
            "5                0.2  Iris-setosa  \n",
            "6                0.4  Iris-setosa  \n",
            "7                0.3  Iris-setosa  \n",
            "8                0.2  Iris-setosa  \n",
            "9                0.2  Iris-setosa  \n"
          ]
        }
      ]
    },
    {
      "cell_type": "markdown",
      "source": [
        "zadanie 7"
      ],
      "metadata": {
        "id": "foCZpjkYNDHo"
      }
    },
    {
      "cell_type": "code",
      "source": [
        "print(\"Bez deep:\")\n",
        "print(iris.memory_usage())\n",
        "\n",
        "print(\"Z deep:\")\n",
        "print(iris.memory_usage(deep=True))\n",
        "\n",
        "# Rzutowanie na float32\n",
        "iris_smaller = iris.copy()\n",
        "for col in iris.select_dtypes(include='float64').columns:\n",
        "    iris_smaller[col] = iris_smaller[col].astype('float32')\n",
        "\n",
        "print(\"Po konwersji na float32:\")\n",
        "print(iris_smaller.memory_usage(deep=True))\n"
      ],
      "metadata": {
        "colab": {
          "base_uri": "https://localhost:8080/"
        },
        "id": "DeNPS89WLlzs",
        "outputId": "2c5d7d79-6d77-4069-eb19-1213dc0bf261"
      },
      "execution_count": 10,
      "outputs": [
        {
          "output_type": "stream",
          "name": "stdout",
          "text": [
            "Bez deep:\n",
            "Index            132\n",
            "sepal_length    1208\n",
            "sepal_width     1208\n",
            "petal_length    1208\n",
            "petal_width     1208\n",
            "class           1208\n",
            "dtype: int64\n",
            "Z deep:\n",
            "Index             132\n",
            "sepal_length     9075\n",
            "sepal_width      9074\n",
            "petal_length     9075\n",
            "petal_width      9074\n",
            "class           10612\n",
            "dtype: int64\n",
            "Po konwersji na float32:\n",
            "Index             132\n",
            "sepal_length     9075\n",
            "sepal_width      9074\n",
            "petal_length     9075\n",
            "petal_width      9074\n",
            "class           10612\n",
            "dtype: int64\n"
          ]
        }
      ]
    },
    {
      "cell_type": "markdown",
      "source": [
        "zadanie 9"
      ],
      "metadata": {
        "id": "kVmveHEANGYz"
      }
    },
    {
      "cell_type": "code",
      "source": [
        "iris.to_parquet(\"iris.parquet\", index=False)\n",
        "\n",
        "\n",
        "iris.to_json(\"iris.json\", orient=\"records\", lines=True)\n",
        "\n",
        "iris.to_pickle(\"iris.pkl\")\n"
      ],
      "metadata": {
        "id": "AGwpKj73MlLm"
      },
      "execution_count": 14,
      "outputs": []
    }
  ]
}