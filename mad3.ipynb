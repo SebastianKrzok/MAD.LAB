{
  "nbformat": 4,
  "nbformat_minor": 0,
  "metadata": {
    "colab": {
      "provenance": []
    },
    "kernelspec": {
      "name": "python3",
      "display_name": "Python 3"
    },
    "language_info": {
      "name": "python"
    }
  },
  "cells": [
    {
      "cell_type": "code",
      "execution_count": 1,
      "metadata": {
        "id": "B-tjE_vst_Zl"
      },
      "outputs": [],
      "source": [
        "import numpy as np"
      ]
    },
    {
      "cell_type": "markdown",
      "source": [
        "zadanie 1"
      ],
      "metadata": {
        "id": "vU5ZjS93u0Go"
      }
    },
    {
      "cell_type": "code",
      "source": [
        "a_small_one = np.arange(1,65).reshape((8,8))\n",
        "a_small_one"
      ],
      "metadata": {
        "colab": {
          "base_uri": "https://localhost:8080/"
        },
        "id": "yoectbg0uH_h",
        "outputId": "5550b5e3-841c-4c07-e6e0-d65cd293fa71"
      },
      "execution_count": 2,
      "outputs": [
        {
          "output_type": "execute_result",
          "data": {
            "text/plain": [
              "array([[ 1,  2,  3,  4,  5,  6,  7,  8],\n",
              "       [ 9, 10, 11, 12, 13, 14, 15, 16],\n",
              "       [17, 18, 19, 20, 21, 22, 23, 24],\n",
              "       [25, 26, 27, 28, 29, 30, 31, 32],\n",
              "       [33, 34, 35, 36, 37, 38, 39, 40],\n",
              "       [41, 42, 43, 44, 45, 46, 47, 48],\n",
              "       [49, 50, 51, 52, 53, 54, 55, 56],\n",
              "       [57, 58, 59, 60, 61, 62, 63, 64]])"
            ]
          },
          "metadata": {},
          "execution_count": 2
        }
      ]
    },
    {
      "cell_type": "markdown",
      "source": [
        "zadanie 2"
      ],
      "metadata": {
        "id": "M6KOpNpZu2oL"
      }
    },
    {
      "cell_type": "code",
      "source": [
        "print('suma w kolumnach')\n",
        "print(a_small_one.sum(axis=0))\n",
        "print('suma w wierszach')\n",
        "print(a_small_one.sum(axis=1))\n",
        "print('średnia')\n",
        "print(a_small_one.sum(axis=1)/8)"
      ],
      "metadata": {
        "colab": {
          "base_uri": "https://localhost:8080/"
        },
        "id": "oHTh7nfLuc9D",
        "outputId": "71c2f2ba-8590-4c27-da32-599a65eb6ed0"
      },
      "execution_count": 3,
      "outputs": [
        {
          "output_type": "stream",
          "name": "stdout",
          "text": [
            "suma w kolumnach\n",
            "[232 240 248 256 264 272 280 288]\n",
            "suma w wierszach\n",
            "[ 36 100 164 228 292 356 420 484]\n",
            "średnia\n",
            "[ 4.5 12.5 20.5 28.5 36.5 44.5 52.5 60.5]\n"
          ]
        }
      ]
    },
    {
      "cell_type": "markdown",
      "source": [
        "zadanie 3"
      ],
      "metadata": {
        "id": "JSzqUSCWx6jM"
      }
    },
    {
      "cell_type": "code",
      "source": [
        "print(a_small_one[a_small_one % 2 == 0])"
      ],
      "metadata": {
        "colab": {
          "base_uri": "https://localhost:8080/"
        },
        "id": "nGwrH9xxx7fl",
        "outputId": "9c821925-1925-41a2-f3a8-cda6175a904d"
      },
      "execution_count": 4,
      "outputs": [
        {
          "output_type": "stream",
          "name": "stdout",
          "text": [
            "[ 2  4  6  8 10 12 14 16 18 20 22 24 26 28 30 32 34 36 38 40 42 44 46 48\n",
            " 50 52 54 56 58 60 62 64]\n"
          ]
        }
      ]
    },
    {
      "cell_type": "markdown",
      "source": [
        "zadanie 4"
      ],
      "metadata": {
        "id": "LZLt-lXfzE3w"
      }
    },
    {
      "cell_type": "code",
      "source": [
        "no_even_small_one = a_small_one.astype(float)\n",
        "no_even_small_one[no_even_small_one % 2 == 0] = np.nan\n",
        "no_even_small_one"
      ],
      "metadata": {
        "colab": {
          "base_uri": "https://localhost:8080/"
        },
        "id": "70VN4irpzGA9",
        "outputId": "e6598696-3ba4-420c-9684-6e68c7ba03e3"
      },
      "execution_count": 5,
      "outputs": [
        {
          "output_type": "execute_result",
          "data": {
            "text/plain": [
              "array([[ 1., nan,  3., nan,  5., nan,  7., nan],\n",
              "       [ 9., nan, 11., nan, 13., nan, 15., nan],\n",
              "       [17., nan, 19., nan, 21., nan, 23., nan],\n",
              "       [25., nan, 27., nan, 29., nan, 31., nan],\n",
              "       [33., nan, 35., nan, 37., nan, 39., nan],\n",
              "       [41., nan, 43., nan, 45., nan, 47., nan],\n",
              "       [49., nan, 51., nan, 53., nan, 55., nan],\n",
              "       [57., nan, 59., nan, 61., nan, 63., nan]])"
            ]
          },
          "metadata": {},
          "execution_count": 5
        }
      ]
    },
    {
      "cell_type": "markdown",
      "source": [
        "zadanie 5\n"
      ],
      "metadata": {
        "id": "JSBiMFg7zfl_"
      }
    },
    {
      "cell_type": "code",
      "source": [
        "print(\"Suma dla każdego wiersza \")\n",
        "print(np.nansum(no_even_small_one, axis=1))\n",
        "\n",
        "print(\"Średnia dla każdej kolumny\")\n",
        "print(np.nanmean(no_even_small_one, axis=0))\n",
        "\n",
        "print('wartość najmniejszą i w całej tablicy')\n",
        "print(np.nanmin(no_even_small_one))"
      ],
      "metadata": {
        "colab": {
          "base_uri": "https://localhost:8080/"
        },
        "id": "6Sg3reDBzgtU",
        "outputId": "cdab89e1-7559-4ae8-b9a5-070643cc721b"
      },
      "execution_count": 6,
      "outputs": [
        {
          "output_type": "stream",
          "name": "stdout",
          "text": [
            "Suma dla każdego wiersza \n",
            "[ 16.  48.  80. 112. 144. 176. 208. 240.]\n",
            "Średnia dla każdej kolumny\n",
            "[29. nan 31. nan 33. nan 35. nan]\n",
            "wartość najmniejszą i w całej tablicy\n",
            "1.0\n"
          ]
        },
        {
          "output_type": "stream",
          "name": "stderr",
          "text": [
            "<ipython-input-6-2f559f7f74c3>:5: RuntimeWarning: Mean of empty slice\n",
            "  print(np.nanmean(no_even_small_one, axis=0))\n"
          ]
        }
      ]
    },
    {
      "cell_type": "code",
      "source": [
        "no_even_small_one"
      ],
      "metadata": {
        "colab": {
          "base_uri": "https://localhost:8080/"
        },
        "id": "TfLplnC535g0",
        "outputId": "657cff8b-1ef9-4c91-dab9-f155fc2e5d9c"
      },
      "execution_count": 7,
      "outputs": [
        {
          "output_type": "execute_result",
          "data": {
            "text/plain": [
              "array([[ 1., nan,  3., nan,  5., nan,  7., nan],\n",
              "       [ 9., nan, 11., nan, 13., nan, 15., nan],\n",
              "       [17., nan, 19., nan, 21., nan, 23., nan],\n",
              "       [25., nan, 27., nan, 29., nan, 31., nan],\n",
              "       [33., nan, 35., nan, 37., nan, 39., nan],\n",
              "       [41., nan, 43., nan, 45., nan, 47., nan],\n",
              "       [49., nan, 51., nan, 53., nan, 55., nan],\n",
              "       [57., nan, 59., nan, 61., nan, 63., nan]])"
            ]
          },
          "metadata": {},
          "execution_count": 7
        }
      ]
    },
    {
      "cell_type": "markdown",
      "source": [
        "zadanie 6"
      ],
      "metadata": {
        "id": "6IPaWDbh041t"
      }
    },
    {
      "cell_type": "code",
      "source": [
        "watosci_1 = np.where(np.isnan(no_even_small_one), 1, no_even_small_one)\n",
        "no_even_small_one = np.where(np.isnan(no_even_small_one), a_small_one, no_even_small_one)\n",
        "print(\"Tablica po wstawieniu wartości za nan:\\n\", watosci_1 )\n",
        "print(\"Tablica po przywróceniu parzystych wartości:\\n\", no_even_small_one)"
      ],
      "metadata": {
        "colab": {
          "base_uri": "https://localhost:8080/"
        },
        "id": "xTIJrt7K062o",
        "outputId": "5a8aee49-e73c-42c3-a79a-0244d38461c9"
      },
      "execution_count": 8,
      "outputs": [
        {
          "output_type": "stream",
          "name": "stdout",
          "text": [
            "Tablica po wstawieniu wartości za nan:\n",
            " [[ 1.  1.  3.  1.  5.  1.  7.  1.]\n",
            " [ 9.  1. 11.  1. 13.  1. 15.  1.]\n",
            " [17.  1. 19.  1. 21.  1. 23.  1.]\n",
            " [25.  1. 27.  1. 29.  1. 31.  1.]\n",
            " [33.  1. 35.  1. 37.  1. 39.  1.]\n",
            " [41.  1. 43.  1. 45.  1. 47.  1.]\n",
            " [49.  1. 51.  1. 53.  1. 55.  1.]\n",
            " [57.  1. 59.  1. 61.  1. 63.  1.]]\n",
            "Tablica po przywróceniu parzystych wartości:\n",
            " [[ 1.  2.  3.  4.  5.  6.  7.  8.]\n",
            " [ 9. 10. 11. 12. 13. 14. 15. 16.]\n",
            " [17. 18. 19. 20. 21. 22. 23. 24.]\n",
            " [25. 26. 27. 28. 29. 30. 31. 32.]\n",
            " [33. 34. 35. 36. 37. 38. 39. 40.]\n",
            " [41. 42. 43. 44. 45. 46. 47. 48.]\n",
            " [49. 50. 51. 52. 53. 54. 55. 56.]\n",
            " [57. 58. 59. 60. 61. 62. 63. 64.]]\n"
          ]
        }
      ]
    },
    {
      "cell_type": "markdown",
      "source": [
        "zadanie 7"
      ],
      "metadata": {
        "id": "CK5HY-9l4Ryu"
      }
    },
    {
      "cell_type": "code",
      "source": [
        "sto_by_sto = np.random.rand(100,100)\n",
        "sto_by_sto"
      ],
      "metadata": {
        "colab": {
          "base_uri": "https://localhost:8080/"
        },
        "id": "VPu9jNXH4R6h",
        "outputId": "09483783-6e13-4c87-bbd7-53beeff74c8d"
      },
      "execution_count": 9,
      "outputs": [
        {
          "output_type": "execute_result",
          "data": {
            "text/plain": [
              "array([[0.61888716, 0.32381543, 0.71358295, ..., 0.7375096 , 0.53259457,\n",
              "        0.8149309 ],\n",
              "       [0.6472504 , 0.93222124, 0.98717612, ..., 0.08630702, 0.05628555,\n",
              "        0.58316999],\n",
              "       [0.39088599, 0.52081569, 0.13131902, ..., 0.94134945, 0.62364349,\n",
              "        0.30017973],\n",
              "       ...,\n",
              "       [0.84777807, 0.89201408, 0.89885336, ..., 0.1252396 , 0.7453553 ,\n",
              "        0.45939511],\n",
              "       [0.78206497, 0.88851854, 0.41434609, ..., 0.61354793, 0.80664723,\n",
              "        0.03799145],\n",
              "       [0.61484304, 0.97806548, 0.6316776 , ..., 0.32038788, 0.66789165,\n",
              "        0.54860617]])"
            ]
          },
          "metadata": {},
          "execution_count": 9
        }
      ]
    },
    {
      "cell_type": "markdown",
      "source": [
        "zadanie 8"
      ],
      "metadata": {
        "id": "ZBIpOuomN2dy"
      }
    },
    {
      "cell_type": "code",
      "source": [
        "mean_rows = np.mean(sto_by_sto, axis=1)\n",
        "mean_cols = np.mean(sto_by_sto, axis=0)\n",
        "\n",
        "mean_abs_diff_rows = np.mean(np.abs(mean_rows - 0))\n",
        "mean_abs_diff_cols = np.mean(np.abs(mean_cols - 0))\n",
        "\n",
        "thousand_by_thousand = np.random.randn(1000, 1000)\n",
        "\n",
        "\n",
        "def calculate_mean_rows(arr):\n",
        "  return np.mean(arr, axis=1)\n",
        "\n",
        "\n",
        "def calculate_mean_cols(arr):\n",
        "  return np.mean(arr, axis=0)\n",
        "\n",
        "time_mean_rows = timeit.timeit(lambda: calculate_mean_rows(thousand_by_thousand), number=100)\n",
        "time_mean_cols = timeit.timeit(lambda: calculate_mean_cols(thousand_by_thousand), number=100)\n",
        "\n",
        "print(time_mean_rows)\n",
        "print(time_mean_cols)\n",
        "\n",
        "\n"
      ],
      "metadata": {
        "colab": {
          "base_uri": "https://localhost:8080/"
        },
        "id": "ikmzT5-YN4fI",
        "outputId": "8428290c-f039-46a1-d418-b32472281b0b"
      },
      "execution_count": 21,
      "outputs": [
        {
          "output_type": "stream",
          "name": "stdout",
          "text": [
            "0.04394108599998958\n",
            "0.055099208000001454\n"
          ]
        }
      ]
    },
    {
      "cell_type": "markdown",
      "source": [
        "zadanie 9"
      ],
      "metadata": {
        "id": "Xt9KGgNb27tm"
      }
    },
    {
      "cell_type": "code",
      "source": [
        "import numpy as np\n",
        "import timeit\n",
        "import pickle\n",
        "from numpy import savez_compressed\n",
        "from numpy import load\n",
        "\n",
        "thousand_by_thousand = np.arange(1, 10001).reshape((100, 100))\n",
        "thousand_by_thousand\n",
        "\n",
        "\n",
        "# Zapis do pliku tekstowego\n",
        "def save_to_txt(arr, filename):\n",
        "  np.savetxt(filename, arr)\n",
        "\n",
        "def load_from_txt(filename):\n",
        "  return np.loadtxt(filename)\n",
        "\n",
        "# Zapis do pliku pickle\n",
        "def save_to_pickle(arr, filename):\n",
        "  with open(filename, 'wb') as f:\n",
        "    pickle.dump(arr, f)\n",
        "\n",
        "def load_from_pickle(filename):\n",
        "  with open(filename, 'rb') as f:\n",
        "    return pickle.load(f)\n",
        "\n",
        "\n",
        "# Zapis do pliku skompresowanego\n",
        "def save_to_compressed(arr, filename):\n",
        "  savez_compressed(filename, arr)\n",
        "\n",
        "def load_from_compressed(filename):\n",
        "  loaded = load(filename + '.npz')\n",
        "  return loaded['arr_0']\n",
        "\n",
        "\n",
        "filename_txt = 'array_txt.txt'\n",
        "filename_pickle = 'array_pickle.pkl'\n",
        "filename_compressed = 'array_compressed'\n",
        "\n",
        "\n",
        "time_save_txt = timeit.timeit(lambda: save_to_txt(thousand_by_thousand, filename_txt), number=1)\n",
        "time_load_txt = timeit.timeit(lambda: load_from_txt(filename_txt), number=1)\n",
        "\n",
        "time_save_pickle = timeit.timeit(lambda: save_to_pickle(thousand_by_thousand, filename_pickle), number=1)\n",
        "time_load_pickle = timeit.timeit(lambda: load_from_pickle(filename_pickle), number=1)\n",
        "\n",
        "time_save_compressed = timeit.timeit(lambda: save_to_compressed(thousand_by_thousand, filename_compressed), number=1)\n",
        "time_load_compressed = timeit.timeit(lambda: load_from_compressed(filename_compressed), number=1)\n",
        "\n",
        "print(f\"Czas zapisu do pliku tekstowego: {time_save_txt}\")\n",
        "print(f\"Czas odczytu z pliku tekstowego: {time_load_txt}\")\n",
        "print(f\"Czas zapisu do pliku pickle: {time_save_pickle}\")\n",
        "print(f\"Czas odczytu z pliku pickle: {time_load_pickle}\")\n",
        "print(f\"Czas zapisu do pliku skompresowanego: {time_save_compressed}\")\n",
        "print(f\"Czas odczytu z pliku skompresowanego: {time_load_compressed}\")\n"
      ],
      "metadata": {
        "colab": {
          "base_uri": "https://localhost:8080/"
        },
        "id": "gtKtTd8y3_h9",
        "outputId": "1bc12bfe-c43b-4b7c-a5c3-995f5b8fe852"
      },
      "execution_count": 31,
      "outputs": [
        {
          "output_type": "stream",
          "name": "stdout",
          "text": [
            "Czas zapisu do pliku tekstowego: 0.013901106000048458\n",
            "Czas odczytu z pliku tekstowego: 0.0024847320000844775\n",
            "Czas zapisu do pliku pickle: 0.001830395999945722\n",
            "Czas odczytu z pliku pickle: 0.00016023199998471682\n",
            "Czas zapisu do pliku skompresowanego: 0.00892970199993215\n",
            "Czas odczytu z pliku skompresowanego: 0.0011178679999375163\n"
          ]
        }
      ]
    },
    {
      "cell_type": "code",
      "source": [
        "thousand_by_thousand = np.arange(1, 10001).reshape((100, 100))\n",
        "thousand_by_thousand"
      ],
      "metadata": {
        "colab": {
          "base_uri": "https://localhost:8080/"
        },
        "id": "dbQ8tXuA4m01",
        "outputId": "8a491c7f-f5fc-4110-9712-380ef24bb704"
      },
      "execution_count": 32,
      "outputs": [
        {
          "output_type": "execute_result",
          "data": {
            "text/plain": [
              "array([[    1,     2,     3, ...,    98,    99,   100],\n",
              "       [  101,   102,   103, ...,   198,   199,   200],\n",
              "       [  201,   202,   203, ...,   298,   299,   300],\n",
              "       ...,\n",
              "       [ 9701,  9702,  9703, ...,  9798,  9799,  9800],\n",
              "       [ 9801,  9802,  9803, ...,  9898,  9899,  9900],\n",
              "       [ 9901,  9902,  9903, ...,  9998,  9999, 10000]])"
            ]
          },
          "metadata": {},
          "execution_count": 32
        }
      ]
    }
  ]
}